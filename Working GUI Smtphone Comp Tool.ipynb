{
 "cells": [
  {
   "cell_type": "code",
   "execution_count": null,
   "id": "37355930",
   "metadata": {},
   "outputs": [
    {
     "data": {
      "image/png": "[encoded data removed]",
      "text/plain": [
       "<Figure size 576x360 with 1 Axes>"
      ]
     },
     "metadata": {
      "needs_background": "light"
     },
     "output_type": "display_data"
    }
   ],
   "source": [
    "from matplotlib.backends.backend_tkagg import FigureCanvasTkAgg\n",
    "import tkinter as tk\n",
    "from tkinter import ttk\n",
    "import numpy as np\n",
    "import matplotlib.pyplot as plt\n",
    "\n",
    "# Define phone specifications using dictionaries\n",
    "phone_specs = {\n",
    "    'Moto G52': [8, 8, 9, 9, 9, 9],\n",
    "    'Galaxy A13': [9, 7, 8, 8, 9, 7],\n",
    "    'Narzo 50': [8, 10, 8, 8, 8, 7],\n",
    "    'M4 pro 5G': [7, 9, 9, 9, 8, 9],\n",
    "    'Redmi_Note_10s': [9, 8, 8, 9, 9, 8],\n",
    "    'Vivo T1': [9, 8, 8, 9, 9, 8]\n",
    "}\n",
    "\n",
    "# Function to perform the comparison and display graph\n",
    "def compare_phones():\n",
    "    p1 = var_p1.get()\n",
    "    p2 = var_p2.get()\n",
    "\n",
    "    if p1 not in phone_specs or p2 not in phone_specs:\n",
    "        result_label.config(text=\"Invalid phone selection\")\n",
    "        return\n",
    "\n",
    "    phones = list(phone_specs.keys())\n",
    "    y1, y2 = phone_specs[p1], phone_specs[p2]\n",
    "\n",
    "    l1 = p1\n",
    "    l2 = p2\n",
    "\n",
    "    # Create a new window for the graph\n",
    "    graph_window = tk.Toplevel()\n",
    "    graph_window.title(\"Graph of Smartphone Ratings\")\n",
    "\n",
    "    fig, ax = plt.subplots(figsize=(8, 5))\n",
    "    ax.bar(phones, y1, width=0.30, label=l1)\n",
    "    ax.bar(np.arange(len(phones)) + 0.30, y2, width=0.30, label=l2)\n",
    "    ax.set_ylim(0, 12)\n",
    "    ax.set_title(\"Ratings (out of 10)\")\n",
    "    ax.legend(loc='upper left')\n",
    "    ax.set_xlabel(\"\")\n",
    "    ax.set_ylabel(\"Ratings\")\n",
    "\n",
    "    # Display the plot in the new window\n",
    "    canvas = FigureCanvasTkAgg(fig, master=graph_window)\n",
    "    canvas.draw()\n",
    "    canvas.get_tk_widget().pack()\n",
    "\n",
    "    recommendation = f\"\\nStill confused?\\nWe Recommend '{l1}' in this price range\"\n",
    "    result_label.config(text=recommendation)\n",
    "\n",
    "# Create the main GUI window\n",
    "root = tk.Tk()\n",
    "root.title(\"Smartphone Comparison Tool\")\n",
    "\n",
    "# Create labels, dropdowns, and buttons\n",
    "var_p1 = tk.StringVar()\n",
    "var_p2 = tk.StringVar()\n",
    "\n",
    "label_range = tk.Label(root, text=\"Select your price range for comparison of desired phones\")\n",
    "label_range.pack()\n",
    "\n",
    "phone_list = list(phone_specs.keys())\n",
    "label_p1 = tk.Label(root, text=\"Select Phone 1:\")\n",
    "dropdown_p1 = ttk.Combobox(root, values=phone_list, textvariable=var_p1)\n",
    "dropdown_p1.pack()\n",
    "\n",
    "label_p2 = tk.Label(root, text=\"Select Phone 2:\")\n",
    "dropdown_p2 = ttk.Combobox(root, values=phone_list, textvariable=var_p2)\n",
    "dropdown_p2.pack()\n",
    "\n",
    "#label_p1.grid(row=2, column=0, padx=10)\n",
    "#dropdown_p1.grid(row=2, column=1, padx=10)\n",
    "\n",
    "#label_p2.grid(row=2, column=2, padx=10)\n",
    "#dropdown_p2.grid(row=2, column=3, padx=10)\n",
    "\n",
    "compare_button = tk.Button(root, text=\"Compare Phones\", command=compare_phones)\n",
    "compare_button.pack()\n",
    "\n",
    "result_label = tk.Label(root, text=\"\")\n",
    "result_label.pack()\n",
    "\n",
    "# Main loop\n",
    "root.mainloop()"
   ]
  },
  {
   "cell_type": "code",
   "execution_count": null,
   "id": "fb317cbf",
   "metadata": {},
   "outputs": [],
   "source": []
  }
 ],
 "metadata": {
  "kernelspec": {
   "display_name": "axu",
   "language": "python",
   "name": "myenv"
  },
  "language_info": {
   "codemirror_mode": {
    "name": "ipython",
    "version": 3
   },
   "file_extension": ".py",
   "mimetype": "text/x-python",
   "name": "python",
   "nbconvert_exporter": "python",
   "pygments_lexer": "ipython3",
   "version": "3.10.6"
  }
 },
 "nbformat": 4,
 "nbformat_minor": 5
}
